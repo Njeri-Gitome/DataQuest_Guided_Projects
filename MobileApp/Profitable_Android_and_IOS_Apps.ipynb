{
 "cells": [
  {
   "attachments": {},
   "cell_type": "markdown",
   "metadata": {},
   "source": [
    "## Goal\n",
    "Our aim is to help our developers understand what type of apps are likely to attract more users on Google Play and the App Store.<br>\n",
    "**Role** : Data Analyst<br>\n",
    "**Company**: Mobile Company<br>\n",
    "**Description**: Builds Android and iOS mobile apps and make them available on Google Play and the App store.\n",
    "The apps are free to download and install. the company's main source of revenue consist of in-app ads.<br>\n",
    "The more users who see and engage with the ads, the better. \n",
    "**Goal** : Analyze data to help developers understand what type of apps are likely to attract more users on Google Play and the App Store."
   ]
  },
  {
   "attachments": {},
   "cell_type": "markdown",
   "metadata": {},
   "source": [
    "## Opening and Exploring the data"
   ]
  },
  {
   "cell_type": "code",
   "execution_count": 91,
   "metadata": {},
   "outputs": [],
   "source": [
    "from csv import reader\n",
    "\n",
    "android = list(reader(open('Data/googleplaystore.csv', encoding='utf8')))\n",
    "android_header = android[0] #header row\n",
    "android = android[1:] #dataset without header row"
   ]
  },
  {
   "cell_type": "code",
   "execution_count": 92,
   "metadata": {},
   "outputs": [],
   "source": [
    "apple = list(reader(open('Data/AppleStore.csv', encoding='utf8')))\n",
    "apple_header = apple[0]\n",
    "apple = apple[1:]"
   ]
  },
  {
   "attachments": {},
   "cell_type": "markdown",
   "metadata": {},
   "source": [
    "#### Preview data"
   ]
  },
  {
   "cell_type": "code",
   "execution_count": 93,
   "metadata": {},
   "outputs": [],
   "source": [
    "def explore_data(dataset, start, end, rows_and_columns=False):\n",
    "    dataset_slice = dataset[start:end]    #slicing through the  dataset\n",
    "    \n",
    "     #Loops through the slice, and for each iteration, prints a row and adds a new line after that row\n",
    "    for row in dataset_slice:            \n",
    "        print(row)\n",
    "        print('\\n')\n",
    "        \n",
    "    #Prints the number of rows and columns if rows_and_columns is True\n",
    "    if rows_and_columns:\n",
    "        print('Number of rows:', len(dataset))\n",
    "        print('Number of columns:', len(dataset[0]))"
   ]
  },
  {
   "attachments": {},
   "cell_type": "markdown",
   "metadata": {},
   "source": [
    "The function takes in four parameters: _dataset_, _start_, _end_, _rows_and_columns_<br>\n",
    "**dataset** - it is a list of lists<br>\n",
    "**start** & **end** - which will both be integers and represent the starting and the ending indices of a slice from the dataset<br>\n",
    "**rows_and_columns** - which will be a Boolean and has False as a default argument\n",
    "\n"
   ]
  },
  {
   "cell_type": "code",
   "execution_count": 94,
   "metadata": {},
   "outputs": [
    {
     "name": "stdout",
     "output_type": "stream",
     "text": [
      "['App', 'Category', 'Rating', 'Reviews', 'Size', 'Installs', 'Type', 'Price', 'Content Rating', 'Genres', 'Last Updated', 'Current Ver', 'Android Ver']\n"
     ]
    }
   ],
   "source": [
    "#Previewing the android data header row\n",
    "print(android_header)"
   ]
  },
  {
   "cell_type": "code",
   "execution_count": 95,
   "metadata": {},
   "outputs": [
    {
     "name": "stdout",
     "output_type": "stream",
     "text": [
      "['Coloring book moana', 'ART_AND_DESIGN', '3.9', '967', '14M', '500,000+', 'Free', '0', 'Everyone', 'Art & Design;Pretend Play', 'January 15, 2018', '2.0.0', '4.0.3 and up']\n",
      "\n",
      "\n",
      "['U Launcher Lite – FREE Live Cool Themes, Hide Apps', 'ART_AND_DESIGN', '4.7', '87510', '8.7M', '5,000,000+', 'Free', '0', 'Everyone', 'Art & Design', 'August 1, 2018', '1.2.4', '4.0.3 and up']\n",
      "\n",
      "\n",
      "['Sketch - Draw & Paint', 'ART_AND_DESIGN', '4.5', '215644', '25M', '50,000,000+', 'Free', '0', 'Teen', 'Art & Design', 'June 8, 2018', 'Varies with device', '4.2 and up']\n",
      "\n",
      "\n",
      "Number of rows: 10841\n",
      "Number of columns: 13\n"
     ]
    }
   ],
   "source": [
    "#Previewing the android data\n",
    "explore_data(android, 1, 4, rows_and_columns= 'TRUE')"
   ]
  },
  {
   "cell_type": "code",
   "execution_count": 96,
   "metadata": {},
   "outputs": [
    {
     "name": "stdout",
     "output_type": "stream",
     "text": [
      "['id', 'track_name', 'size_bytes', 'currency', 'price', 'rating_count_tot', 'rating_count_ver', 'user_rating', 'user_rating_ver', 'ver', 'cont_rating', 'prime_genre', 'sup_devices.num', 'ipadSc_urls.num', 'lang.num', 'vpp_lic']\n"
     ]
    }
   ],
   "source": [
    "#Previewing the ios data header row\n",
    "print(apple_header)"
   ]
  },
  {
   "cell_type": "code",
   "execution_count": 97,
   "metadata": {},
   "outputs": [
    {
     "name": "stdout",
     "output_type": "stream",
     "text": [
      "['389801252', 'Instagram', '113954816', 'USD', '0.0', '2161558', '1289', '4.5', '4.0', '10.23', '12+', 'Photo & Video', '37', '0', '29', '1']\n",
      "\n",
      "\n",
      "['529479190', 'Clash of Clans', '116476928', 'USD', '0.0', '2130805', '579', '4.5', '4.5', '9.24.12', '9+', 'Games', '38', '5', '18', '1']\n",
      "\n",
      "\n",
      "['420009108', 'Temple Run', '65921024', 'USD', '0.0', '1724546', '3842', '4.5', '4.0', '1.6.2', '9+', 'Games', '40', '5', '1', '1']\n",
      "\n",
      "\n",
      "Number of rows: 7197\n",
      "Number of columns: 16\n"
     ]
    }
   ],
   "source": [
    "#Previewing the ios data\n",
    "explore_data(apple, 1,4, rows_and_columns='True')"
   ]
  },
  {
   "cell_type": "code",
   "execution_count": 98,
   "metadata": {},
   "outputs": [
    {
     "name": "stdout",
     "output_type": "stream",
     "text": [
      "['389801252', 'Instagram', '113954816', 'USD', '0.0', '2161558', '1289', '4.5', '4.0', '10.23', '12+', 'Photo & Video', '37', '0', '29', '1']\n"
     ]
    }
   ],
   "source": [
    "print(apple[1])"
   ]
  },
  {
   "attachments": {},
   "cell_type": "markdown",
   "metadata": {},
   "source": [
    "## Data Cleaning\n",
    "\n",
    "In the previous step, we opened the two data sets and explored the data.<br>\n",
    "Before beginning our analysis, we need to make sure the data we analyze is accurate, or the results of our analysis will be wrong.<br>\n",
    "This means that we need to do the following:<br><br>\n",
    "\n",
    "- Detect inaccurate data, and correct or remove it.\n",
    "- Detect duplicate data, and remove the duplicates.<br><br>\n",
    "\n",
    "Recall that at our company, we only build apps that are free to download and install, and we design them for an English-speaking audience.<br>\n",
    "This means that we'll need to do the following:<br><br>\n",
    "\n",
    "- Remove non-English apps like 爱奇艺PPS -《欢乐颂2》电视剧热播.<br>\n",
    "- Remove apps that aren't free.<br>"
   ]
  },
  {
   "attachments": {},
   "cell_type": "markdown",
   "metadata": {},
   "source": [
    "#### Removing duplicates"
   ]
  },
  {
   "cell_type": "code",
   "execution_count": 99,
   "metadata": {},
   "outputs": [],
   "source": [
    "#Function to check for duplicates\n",
    "def duplicate_apps(datastore, index): #datastore: android/apple store\n",
    "    duplicates = []   #empty list to store duplicated apps\n",
    "    unique_apps = []  #empty lisr to store the non-duplicates apps\n",
    "    for app in datastore:\n",
    "        name = app[index]\n",
    "        if name in unique_apps:\n",
    "            duplicates.append(name)\n",
    "        else:\n",
    "            unique_apps.append(name)\n",
    "    return unique_apps, duplicates"
   ]
  },
  {
   "cell_type": "code",
   "execution_count": 100,
   "metadata": {},
   "outputs": [],
   "source": [
    "# Function call\n",
    "android_apps, android_duplicates = duplicate_apps(android, 0)\n",
    "apple_apps, apple_duplicates = duplicate_apps(apple,1)"
   ]
  },
  {
   "cell_type": "code",
   "execution_count": 101,
   "metadata": {},
   "outputs": [
    {
     "data": {
      "text/plain": [
       "['Photo Editor & Candy Camera & Grid & ScrapBook',\n",
       " 'Coloring book moana',\n",
       " 'U Launcher Lite – FREE Live Cool Themes, Hide Apps',\n",
       " 'Sketch - Draw & Paint',\n",
       " 'Pixel Draw - Number Art Coloring Book',\n",
       " 'Paper flowers instructions',\n",
       " 'Smoke Effect Photo Maker - Smoke Editor',\n",
       " 'Infinite Painter',\n",
       " 'Garden Coloring Book',\n",
       " 'Kids Paint Free - Drawing Fun']"
      ]
     },
     "execution_count": 101,
     "metadata": {},
     "output_type": "execute_result"
    }
   ],
   "source": [
    "#print first 10 unique android apps\n",
    "android_apps[:10]"
   ]
  },
  {
   "cell_type": "code",
   "execution_count": 102,
   "metadata": {},
   "outputs": [
    {
     "data": {
      "text/plain": [
       "['Quick PDF Scanner + OCR FREE',\n",
       " 'Box',\n",
       " 'Google My Business',\n",
       " 'ZOOM Cloud Meetings',\n",
       " 'join.me - Simple Meetings',\n",
       " 'Box',\n",
       " 'Zenefits']"
      ]
     },
     "execution_count": 102,
     "metadata": {},
     "output_type": "execute_result"
    }
   ],
   "source": [
    "#print first 7 duplicate android apps\n",
    "android_duplicates[:7]"
   ]
  },
  {
   "cell_type": "code",
   "execution_count": 103,
   "metadata": {},
   "outputs": [
    {
     "data": {
      "text/plain": [
       "['Facebook',\n",
       " 'Instagram',\n",
       " 'Clash of Clans',\n",
       " 'Temple Run',\n",
       " 'Pandora - Music & Radio']"
      ]
     },
     "execution_count": 103,
     "metadata": {},
     "output_type": "execute_result"
    }
   ],
   "source": [
    "#print first 5 unique ios apps\n",
    "apple_apps[:5]"
   ]
  },
  {
   "cell_type": "code",
   "execution_count": 104,
   "metadata": {},
   "outputs": [
    {
     "data": {
      "text/plain": [
       "['Mannequin Challenge', 'VR Roller Coaster']"
      ]
     },
     "execution_count": 104,
     "metadata": {},
     "output_type": "execute_result"
    }
   ],
   "source": [
    "#duplicate ios apps\n",
    "apple_duplicates"
   ]
  },
  {
   "attachments": {},
   "cell_type": "markdown",
   "metadata": {},
   "source": [
    "##### Summary"
   ]
  },
  {
   "cell_type": "code",
   "execution_count": 105,
   "metadata": {},
   "outputs": [
    {
     "name": "stdout",
     "output_type": "stream",
     "text": [
      "Number of unique android apps: 9660\n",
      "Number of duplicate android apps: 1181\n",
      "\n",
      "\n",
      "Number of unique ios apps: 7195\n",
      "Number of duplicate ios apps: 2\n"
     ]
    }
   ],
   "source": [
    "print('Number of unique android apps:',len(android_apps))\n",
    "print('Number of duplicate android apps:',len(android_duplicates))\n",
    "print('\\n')\n",
    "print('Number of unique ios apps:',len(apple_apps))\n",
    "print('Number of duplicate ios apps:',len(apple_duplicates))"
   ]
  },
  {
   "cell_type": "code",
   "execution_count": 106,
   "metadata": {},
   "outputs": [
    {
     "name": "stdout",
     "output_type": "stream",
     "text": [
      "Percentage of unique android apps:  89.10617101743381\n"
     ]
    }
   ],
   "source": [
    "#Percentage of unique apps\n",
    "unique_android_percentage =(len(android_apps)/len(android))*100\n",
    "print('Percentage of unique android apps: ',unique_android_percentage)"
   ]
  },
  {
   "cell_type": "code",
   "execution_count": 107,
   "metadata": {},
   "outputs": [
    {
     "name": "stdout",
     "output_type": "stream",
     "text": [
      "Percentage of unique ios apps:  99.9722106433236\n"
     ]
    }
   ],
   "source": [
    "unique_apple_percentage =(len(apple_apps)/len(apple))*100\n",
    "print('Percentage of unique ios apps: ',unique_apple_percentage)"
   ]
  },
  {
   "attachments": {},
   "cell_type": "markdown",
   "metadata": {},
   "source": [
    "### Investigating the duplicate rows"
   ]
  },
  {
   "cell_type": "code",
   "execution_count": 108,
   "metadata": {},
   "outputs": [
    {
     "name": "stdout",
     "output_type": "stream",
     "text": [
      "['ZOOM Cloud Meetings', 'BUSINESS', '4.4', '31614', '37M', '10,000,000+', 'Free', '0', 'Everyone', 'Business', 'July 20, 2018', '4.1.28165.0716', '4.0 and up']\n",
      "['ZOOM Cloud Meetings', 'BUSINESS', '4.4', '31614', '37M', '10,000,000+', 'Free', '0', 'Everyone', 'Business', 'July 20, 2018', '4.1.28165.0716', '4.0 and up']\n"
     ]
    }
   ],
   "source": [
    "#Considering an app with duplicates\n",
    "for app in android:\n",
    "    if app[0] == 'ZOOM Cloud Meetings':\n",
    "        print (app)"
   ]
  },
  {
   "cell_type": "code",
   "execution_count": 109,
   "metadata": {},
   "outputs": [
    {
     "name": "stdout",
     "output_type": "stream",
     "text": [
      "['Instagram', 'SOCIAL', '4.5', '66577313', 'Varies with device', '1,000,000,000+', 'Free', '0', 'Teen', 'Social', 'July 31, 2018', 'Varies with device', 'Varies with device']\n",
      "['Instagram', 'SOCIAL', '4.5', '66577446', 'Varies with device', '1,000,000,000+', 'Free', '0', 'Teen', 'Social', 'July 31, 2018', 'Varies with device', 'Varies with device']\n",
      "['Instagram', 'SOCIAL', '4.5', '66577313', 'Varies with device', '1,000,000,000+', 'Free', '0', 'Teen', 'Social', 'July 31, 2018', 'Varies with device', 'Varies with device']\n",
      "['Instagram', 'SOCIAL', '4.5', '66509917', 'Varies with device', '1,000,000,000+', 'Free', '0', 'Teen', 'Social', 'July 31, 2018', 'Varies with device', 'Varies with device']\n"
     ]
    }
   ],
   "source": [
    "for app in android:\n",
    "    if app[0] == 'Instagram':\n",
    "        print (app)"
   ]
  },
  {
   "attachments": {},
   "cell_type": "markdown",
   "metadata": {},
   "source": [
    "##### Observation\n",
    "For example in the case of the Instagram app, there is a variation in the reviews column index[3]<br>\n",
    "We can use this information to build a criterion for removing the duplicates. The higher the number of reviews,the more recent the data should be.<br>\n",
    "Rather than removing duplicates randomly, we'll only keep the row with the highest number of reviews and remove the other entries for any given app.<br><br>\n",
    "\n",
    "To do that, we will:<br>\n",
    "\n",
    "- Create a dictionary where each key is a unique app name, and the value is the highest number of reviews of that app\n",
    "- Use the dictionary to create a new data set, which will have only one entry per app (and we only select the apps with the highest number of reviews)"
   ]
  },
  {
   "cell_type": "code",
   "execution_count": 110,
   "metadata": {},
   "outputs": [
    {
     "name": "stdout",
     "output_type": "stream",
     "text": [
      "['952877179', 'VR Roller Coaster', '169523200', 'USD', '0.0', '107', '102', '3.5', '3.5', '2.0.0', '4+', 'Games', '37', '5', '1', '1']\n",
      "['1089824278', 'VR Roller Coaster', '240964608', 'USD', '0.0', '67', '44', '3.5', '4.0', '0.81', '4+', 'Games', '38', '0', '1', '1']\n"
     ]
    }
   ],
   "source": [
    "#Investigating ios app with duplicates\n",
    "for app in apple:\n",
    "    if app[1] == 'VR Roller Coaster':\n",
    "        print(app)"
   ]
  },
  {
   "cell_type": "code",
   "execution_count": 111,
   "metadata": {},
   "outputs": [
    {
     "name": "stdout",
     "output_type": "stream",
     "text": [
      "['1173990889', 'Mannequin Challenge', '109705216', 'USD', '0.0', '668', '87', '3.0', '3.0', '1.4', '9+', 'Games', '37', '4', '1', '1']\n",
      "['1178454060', 'Mannequin Challenge', '59572224', 'USD', '0.0', '105', '58', '4.0', '4.5', '1.0.1', '4+', 'Games', '38', '5', '1', '1']\n"
     ]
    }
   ],
   "source": [
    "for app in apple:\n",
    "    if app[1] == 'Mannequin Challenge':\n",
    "        print(app)"
   ]
  },
  {
   "cell_type": "code",
   "execution_count": 112,
   "metadata": {},
   "outputs": [],
   "source": [
    "#pip install numerize"
   ]
  },
  {
   "attachments": {},
   "cell_type": "markdown",
   "metadata": {},
   "source": [
    "##### Observation\n",
    "For the ios data, only the app name is duplicate the other values contain essential information that is not duplicate"
   ]
  },
  {
   "cell_type": "code",
   "execution_count": 127,
   "metadata": {},
   "outputs": [],
   "source": [
    "#Building the dictionary to extract duplicate apps with the highest reviews \n",
    "\n",
    "def max_review(datastore, app_index, review_index):\n",
    "    review_max = {}  #empty dictionary\n",
    "    for app in datastore:\n",
    "        name = app[app_index]\n",
    "        n_reviews = float(app[review_index])\n",
    "        \n",
    "        if name in review_max and review_max[name] < n_reviews:\n",
    "            review_max[name] = n_reviews\n",
    "        if name not in review_max:\n",
    "            review_max[name] = n_reviews\n",
    "    return review_max"
   ]
  },
  {
   "cell_type": "code",
   "execution_count": 130,
   "metadata": {},
   "outputs": [],
   "source": [
    "# Function call\n",
    "android_review_max = max_review(android, 0, 3)\n",
    "apple_review_max = max_review(apple, 1, 7)"
   ]
  },
  {
   "cell_type": "code",
   "execution_count": 131,
   "metadata": {},
   "outputs": [
    {
     "name": "stdout",
     "output_type": "stream",
     "text": [
      "Expected length: 9660\n",
      "Actual length: 9660\n"
     ]
    }
   ],
   "source": [
    "# Check length to make sure all duplicates are removed\n",
    "print('Expected length:', len(android) - 1181)\n",
    "print('Actual length:', len(android_review_max))"
   ]
  },
  {
   "cell_type": "code",
   "execution_count": 132,
   "metadata": {},
   "outputs": [
    {
     "name": "stdout",
     "output_type": "stream",
     "text": [
      "Expected length: 7195\n",
      "Actual length: 7195\n"
     ]
    }
   ],
   "source": [
    "# Check length to make sure all duplicates are removed\n",
    "print('Expected length:', len(apple) - 2)\n",
    "print('Actual length:', len(apple_review_max))\n"
   ]
  },
  {
   "cell_type": "code",
   "execution_count": 138,
   "metadata": {},
   "outputs": [],
   "source": [
    "#Function that references our frequency table, for name and most reviews, and will remove the duplicate entries and provide us with clean datasets.\n",
    "def duplicatefree(review_max, store, name_index, review_index):\n",
    "    clean = []\n",
    "    added = []\n",
    "    for app in store:\n",
    "        name = app[name_index]\n",
    "        n_reviews = float(app[review_index])\n",
    "        if (name not in added) and (n_reviews == review_max[name]):\n",
    "            clean.append(app)\n",
    "            added.append(name)\n",
    "    return clean\n",
    "\n",
    "clean_android = duplicatefree(android_review_max, android, 0, 3)\n",
    "clean_apple = duplicatefree(apple_review_max, apple, 1, 7)"
   ]
  },
  {
   "attachments": {},
   "cell_type": "markdown",
   "metadata": {},
   "source": [
    "#### Removing non-english apps"
   ]
  },
  {
   "cell_type": "code",
   "execution_count": 140,
   "metadata": {},
   "outputs": [],
   "source": [
    "def eng_check(string, english=True):\n",
    "    count = 0\n",
    "    for char in string:\n",
    "        check = ord(char)\n",
    "        if check > 127:\n",
    "            count += 1\n",
    "            if count >= 3:\n",
    "                english=False\n",
    "                count = 0\n",
    "    return english"
   ]
  },
  {
   "attachments": {},
   "cell_type": "markdown",
   "metadata": {},
   "source": [
    " The function  detects whether a character belongs to the set of common English characters or not. Using ord() if the number is equal to or less than 127, then the character belongs to the set of common English characters. To minimize the impact of data loss, we'll only remove an app if its name has more than three characters with corresponding numbers falling outside the ASCII range."
   ]
  },
  {
   "cell_type": "code",
   "execution_count": 135,
   "metadata": {},
   "outputs": [
    {
     "name": "stdout",
     "output_type": "stream",
     "text": [
      "True\n",
      "False\n",
      "True\n",
      "True\n"
     ]
    }
   ],
   "source": [
    "#Function call\n",
    "print(eng_check('Instagram'))\n",
    "print(eng_check('爱奇艺PPS -《欢乐颂2》电视剧热播'))\n",
    "print(eng_check('Docs To Go™ Free Office Suite'))\n",
    "print(eng_check('Instachat 😜'))"
   ]
  },
  {
   "cell_type": "code",
   "execution_count": 144,
   "metadata": {},
   "outputs": [],
   "source": [
    "#Function to iterate around our dataset and check for english apps\n",
    "def clean_lang(datastore, name_index):\n",
    "    clean = []            #list of english apps\n",
    "    for app in datastore:\n",
    "        if eng_check(app[name_index]):\n",
    "            clean.append(app)\n",
    "    return clean\n",
    "\n",
    "android_eng = clean_lang(clean_android, 0)\n",
    "apple_eng = clean_lang(clean_apple, 1)"
   ]
  },
  {
   "cell_type": "code",
   "execution_count": 146,
   "metadata": {},
   "outputs": [
    {
     "name": "stdout",
     "output_type": "stream",
     "text": [
      "9598\n",
      "6153\n"
     ]
    }
   ],
   "source": [
    "# Check new length\n",
    "print(len(android_eng))\n",
    "print(len(apple_eng))"
   ]
  },
  {
   "attachments": {},
   "cell_type": "markdown",
   "metadata": {},
   "source": [
    "#### Removing non-free apps"
   ]
  },
  {
   "cell_type": "code",
   "execution_count": 149,
   "metadata": {},
   "outputs": [
    {
     "name": "stdout",
     "output_type": "stream",
     "text": [
      "8849\n",
      "3201\n"
     ]
    }
   ],
   "source": [
    "#Isolating the free apps in both App stores\n",
    "android_free = []\n",
    "apple_free = []\n",
    "\n",
    "for app in android_eng:\n",
    "    price = app[7]\n",
    "    if price == '0':\n",
    "        android_free.append(app)\n",
    "\n",
    "for app in apple_eng:\n",
    "    price = app[4]\n",
    "    if price == '0.0':\n",
    "        apple_free.append(app)\n",
    "        \n",
    "print(len(android_free))\n",
    "print(len(apple_free))"
   ]
  },
  {
   "attachments": {},
   "cell_type": "markdown",
   "metadata": {},
   "source": [
    "## Data Analysis\n",
    "\n",
    "As we mentioned in the introduction, our aim is to determine the kinds of apps that are likely to attract more users because our revenue is highly influenced by the number of people using our apps.<br>\n",
    "To minimize risks and overhead, our validation strategy for an app idea has three steps:<br><br>\n",
    "\n",
    "1. Build a minimal Android version of the app, and add it to Google Play.\n",
    "2. If the app has a good response from users, we develop it further.\n",
    "3. If the app is profitable after six months, we build an iOS version of the app and add it to the App Store.<br><br>\n",
    "\n",
    "Because our end goal is to add the app on both Google Play and the App Store, we need to find app profiles that are successful in both markets.<br>\n",
    "For instance, a profile that works well for both markets might be a productivity app that makes use of gamification."
   ]
  },
  {
   "attachments": {},
   "cell_type": "markdown",
   "metadata": {},
   "source": [
    "### Most common apps by Genre\n",
    "\n",
    "Let's begin the analysis by determining the most common genres for each market. For this, we'll need to build frequency tables for a few columns in our datasets."
   ]
  },
  {
   "cell_type": "code",
   "execution_count": 151,
   "metadata": {},
   "outputs": [],
   "source": [
    "def genre_freq(datastore, genre_index):\n",
    "    frequency = {}\n",
    "    for app in datastore:\n",
    "        genre = app[genre_index]\n",
    "        \n",
    "        if genre in frequency:\n",
    "            frequency[genre] += 1\n",
    "        else:\n",
    "            frequency[genre] = 1\n",
    "    for value in frequency:\n",
    "        frequency[value] = round((frequency[value]/len(datastore))*100, 2) ## Changes value from count to percentage\n",
    "    return frequency\n"
   ]
  },
  {
   "cell_type": "code",
   "execution_count": 154,
   "metadata": {},
   "outputs": [
    {
     "name": "stdout",
     "output_type": "stream",
     "text": [
      "Tools : 8.44\n",
      "Entertainment : 6.08\n",
      "Education : 5.36\n",
      "Business : 4.6\n",
      "Productivity : 3.9\n",
      "Lifestyle : 3.88\n",
      "Finance : 3.71\n",
      "Medical : 3.54\n",
      "Sports : 3.46\n",
      "Personalization : 3.32\n",
      "Communication : 3.23\n",
      "Action : 3.1\n",
      "Health & Fitness : 3.09\n",
      "Photography : 2.95\n",
      "News & Magazines : 2.8\n",
      "Social : 2.67\n",
      "Travel & Local : 2.33\n",
      "Shopping : 2.25\n",
      "Books & Reference : 2.14\n",
      "Simulation : 2.05\n",
      "Dating : 1.86\n",
      "Arcade : 1.84\n",
      "Video Players & Editors : 1.77\n",
      "Casual : 1.76\n",
      "Maps & Navigation : 1.39\n",
      "Food & Drink : 1.24\n",
      "Puzzle : 1.13\n",
      "Racing : 0.99\n",
      "Role Playing : 0.94\n",
      "Libraries & Demo : 0.94\n",
      "Auto & Vehicles : 0.93\n",
      "Strategy : 0.92\n",
      "House & Home : 0.8\n",
      "Weather : 0.79\n",
      "Events : 0.71\n",
      "Adventure : 0.67\n",
      "Comics : 0.6\n",
      "Beauty : 0.6\n",
      "Art & Design : 0.6\n",
      "Parenting : 0.5\n",
      "Card : 0.45\n",
      "Trivia : 0.42\n",
      "Casino : 0.42\n",
      "Educational;Education : 0.4\n",
      "Board : 0.38\n",
      "Educational : 0.37\n",
      "Education;Education : 0.34\n",
      "Word : 0.26\n",
      "Casual;Pretend Play : 0.24\n",
      "Music : 0.2\n",
      "Racing;Action & Adventure : 0.17\n",
      "Puzzle;Brain Games : 0.17\n",
      "Entertainment;Music & Video : 0.17\n",
      "Casual;Brain Games : 0.14\n",
      "Casual;Action & Adventure : 0.14\n",
      "Arcade;Action & Adventure : 0.12\n",
      "Action;Action & Adventure : 0.1\n",
      "Educational;Pretend Play : 0.09\n",
      "Simulation;Action & Adventure : 0.08\n",
      "Parenting;Education : 0.08\n",
      "Entertainment;Brain Games : 0.08\n",
      "Board;Brain Games : 0.08\n",
      "Parenting;Music & Video : 0.07\n",
      "Educational;Brain Games : 0.07\n",
      "Casual;Creativity : 0.07\n",
      "Art & Design;Creativity : 0.07\n",
      "Education;Pretend Play : 0.06\n",
      "Role Playing;Pretend Play : 0.05\n",
      "Education;Creativity : 0.05\n",
      "Role Playing;Action & Adventure : 0.03\n",
      "Puzzle;Action & Adventure : 0.03\n",
      "Entertainment;Creativity : 0.03\n",
      "Entertainment;Action & Adventure : 0.03\n",
      "Educational;Creativity : 0.03\n",
      "Educational;Action & Adventure : 0.03\n",
      "Education;Music & Video : 0.03\n",
      "Education;Brain Games : 0.03\n",
      "Education;Action & Adventure : 0.03\n",
      "Adventure;Action & Adventure : 0.03\n",
      "Video Players & Editors;Music & Video : 0.02\n",
      "Sports;Action & Adventure : 0.02\n",
      "Simulation;Pretend Play : 0.02\n",
      "Puzzle;Creativity : 0.02\n",
      "Music;Music & Video : 0.02\n",
      "Entertainment;Pretend Play : 0.02\n",
      "Casual;Education : 0.02\n",
      "Board;Action & Adventure : 0.02\n",
      "Video Players & Editors;Creativity : 0.01\n",
      "Trivia;Education : 0.01\n",
      "Travel & Local;Action & Adventure : 0.01\n",
      "Tools;Education : 0.01\n",
      "Strategy;Education : 0.01\n",
      "Strategy;Creativity : 0.01\n",
      "Strategy;Action & Adventure : 0.01\n",
      "Simulation;Education : 0.01\n",
      "Role Playing;Brain Games : 0.01\n",
      "Racing;Pretend Play : 0.01\n",
      "Puzzle;Education : 0.01\n",
      "Parenting;Brain Games : 0.01\n",
      "Music & Audio;Music & Video : 0.01\n",
      "Lifestyle;Pretend Play : 0.01\n",
      "Lifestyle;Education : 0.01\n",
      "Health & Fitness;Education : 0.01\n",
      "Health & Fitness;Action & Adventure : 0.01\n",
      "February 11, 2018 : 0.01\n",
      "Entertainment;Education : 0.01\n",
      "Communication;Creativity : 0.01\n",
      "Comics;Creativity : 0.01\n",
      "Casual;Music & Video : 0.01\n",
      "Card;Action & Adventure : 0.01\n",
      "Books & Reference;Education : 0.01\n",
      "Art & Design;Pretend Play : 0.01\n",
      "Art & Design;Action & Adventure : 0.01\n",
      "Arcade;Pretend Play : 0.01\n",
      "Adventure;Education : 0.01\n"
     ]
    }
   ],
   "source": [
    "## Google Play 'Genres'\n",
    "\n",
    "display_table(android_free, 9)"
   ]
  },
  {
   "cell_type": "code",
   "execution_count": 155,
   "metadata": {},
   "outputs": [],
   "source": [
    "# Transforms the frequency table into a list of tuples for sorting\n",
    "def display_table(dataset, index):\n",
    "    table = genre_freq(dataset, index)\n",
    "    table_display = []\n",
    "    for key in table:\n",
    "        key_val_as_tuple = (table[key], key)\n",
    "        table_display.append(key_val_as_tuple)\n",
    "\n",
    "    table_sorted = sorted(table_display, reverse = True)\n",
    "    for entry in table_sorted:\n",
    "        print(entry[1], ':', entry[0])"
   ]
  },
  {
   "cell_type": "code",
   "execution_count": 156,
   "metadata": {},
   "outputs": [
    {
     "name": "stdout",
     "output_type": "stream",
     "text": [
      "FAMILY : 18.94\n",
      "GAME : 9.7\n",
      "TOOLS : 8.45\n",
      "BUSINESS : 4.6\n",
      "PRODUCTIVITY : 3.9\n",
      "LIFESTYLE : 3.89\n",
      "FINANCE : 3.71\n",
      "MEDICAL : 3.54\n",
      "SPORTS : 3.39\n",
      "PERSONALIZATION : 3.32\n",
      "COMMUNICATION : 3.23\n",
      "HEALTH_AND_FITNESS : 3.09\n",
      "PHOTOGRAPHY : 2.95\n",
      "NEWS_AND_MAGAZINES : 2.8\n",
      "SOCIAL : 2.67\n",
      "TRAVEL_AND_LOCAL : 2.34\n",
      "SHOPPING : 2.25\n",
      "BOOKS_AND_REFERENCE : 2.14\n",
      "DATING : 1.86\n",
      "VIDEO_PLAYERS : 1.8\n",
      "MAPS_AND_NAVIGATION : 1.39\n",
      "FOOD_AND_DRINK : 1.24\n",
      "EDUCATION : 1.16\n",
      "ENTERTAINMENT : 0.96\n",
      "LIBRARIES_AND_DEMO : 0.94\n",
      "AUTO_AND_VEHICLES : 0.93\n",
      "HOUSE_AND_HOME : 0.8\n",
      "WEATHER : 0.79\n",
      "EVENTS : 0.71\n",
      "PARENTING : 0.66\n",
      "ART_AND_DESIGN : 0.64\n",
      "COMICS : 0.61\n",
      "BEAUTY : 0.6\n",
      "1.9 : 0.01\n"
     ]
    }
   ],
   "source": [
    "## Google Play 'Category'\n",
    "\n",
    "display_table(android_free, 1)"
   ]
  },
  {
   "attachments": {},
   "cell_type": "markdown",
   "metadata": {},
   "source": [
    "It seems that a good number of apps are designed for practical purposes (family, tools, business, lifestyle, productivity, etc.). However, if we investigate this further, we can see that the family category (which accounts for almost 19% of the apps) means mostly games for kids."
   ]
  },
  {
   "cell_type": "code",
   "execution_count": 159,
   "metadata": {},
   "outputs": [
    {
     "name": "stdout",
     "output_type": "stream",
     "text": [
      "Games : 58.23\n",
      "Entertainment : 7.84\n",
      "Photo & Video : 5.0\n",
      "Education : 3.69\n",
      "Social Networking : 3.31\n",
      "Shopping : 2.59\n",
      "Utilities : 2.47\n",
      "Sports : 2.16\n",
      "Music : 2.06\n",
      "Health & Fitness : 2.03\n",
      "Productivity : 1.75\n",
      "Lifestyle : 1.56\n",
      "News : 1.34\n",
      "Travel : 1.25\n",
      "Finance : 1.09\n",
      "Weather : 0.87\n",
      "Food & Drink : 0.81\n",
      "Reference : 0.53\n",
      "Business : 0.53\n",
      "Book : 0.37\n",
      "Navigation : 0.19\n",
      "Medical : 0.19\n",
      "Catalogs : 0.12\n"
     ]
    }
   ],
   "source": [
    "## Apple App Store 'prime_genre'\n",
    "\n",
    "display_table(apple_free, 11)"
   ]
  },
  {
   "attachments": {},
   "cell_type": "markdown",
   "metadata": {},
   "source": [
    "#### Observation\n",
    "The landscape seems significantly different on Apple Store: We can see that among the free English apps, more than a half (58.16%) are games. Entertainment apps are close to 8%, followed by photo and video apps, which are close to 5%. Only 3.66% of the apps are designed for education, followed by social networking apps which amount for 3.29% of the apps in our data set.\n",
    "\n",
    "The general impression is that App Store (at least the part containing free English apps) is dominated by apps that are designed for fun (games, entertainment, photo and video, social networking, sports, music, etc.), while apps with practical purposes (education, shopping, utilities, productivity, lifestyle, etc.) are more rare. However, the fact that fun apps are the most numerous doesn't also imply that they also have the greatest number of users — the demand might not be the same as the offer.<br>\n",
    "\n",
    "#### Conclusion\n",
    "The difference between the Genres and the Category columns is not crystal clear, but one thing we can notice is that the Genres column is much more granular (it has more categories). We're only looking for the bigger picture at the moment, so we'll only work with the Category column moving forward.\n",
    "\n",
    "Up to this point, we found that the App Store is dominated by apps designed for fun, while Google Play shows a more balanced landscape of both practical and for-fun apps. Now we'd like to get an idea about the kind of apps that have most users."
   ]
  },
  {
   "attachments": {},
   "cell_type": "markdown",
   "metadata": {},
   "source": [
    "### Popularity by genre\n",
    "The next thing I would like to look at what genres are the most popular. To determine which apps have the most users I'll use the 'Installs' column from the Android dataset. This information is missing for the iOS dataset. As a workaround, we'll take the total number of user ratings as a proxy, which we can find in the 'rating_count_tot'. I'll also be using 'Rating' from the Android set and 'user_rating' from the iOS set, which both represent average user rating.\n",
    "\n",
    "I'll generate a frequency tables similar to above but this time I'll make one table for average number of ratings and another for average rating score. Then we'll multiply those values to get a score that represents overall popularity."
   ]
  },
  {
   "cell_type": "code",
   "execution_count": 160,
   "metadata": {},
   "outputs": [],
   "source": [
    "def rating_count(datastore, genre_index, rating_index):\n",
    "    genres = genre_freq(datastore, genre_index)\n",
    "    for genre in genres:\n",
    "        total = 0\n",
    "        len_genre = 0\n",
    "        for app in datastore:\n",
    "            genre_app = app[genre_index]\n",
    "            if genre_app == genre:\n",
    "                total += float(app[rating_index])\n",
    "                len_genre += 1\n",
    "        avg_ratings = round(total / len_genre, 2)\n",
    "        print(genre, ':', avg_ratings)\n"
   ]
  },
  {
   "cell_type": "code",
   "execution_count": 166,
   "metadata": {},
   "outputs": [
    {
     "name": "stdout",
     "output_type": "stream",
     "text": [
      "Art & Design : 26119.11\n",
      "Art & Design;Creativity : 5677.83\n",
      "Auto & Vehicles : 14140.28\n",
      "Beauty : 7476.23\n",
      "Books & Reference : 88460.63\n",
      "Business : 24239.73\n",
      "Comics : 44180.17\n",
      "Comics;Creativity : 516.0\n",
      "Communication : 999089.61\n",
      "Dating : 21953.27\n",
      "Education : 16211.38\n",
      "Education;Creativity : 6384.25\n",
      "Education;Education : 234564.87\n",
      "Education;Pretend Play : 25151.4\n",
      "Education;Brain Games : 192591.0\n",
      "Entertainment : 103389.25\n",
      "Entertainment;Brain Games : 79104.29\n",
      "Entertainment;Creativity : 143559.33\n",
      "Entertainment;Music & Video : 79679.53\n",
      "Events : 2555.84\n",
      "Finance : 38535.9\n",
      "Food & Drink : 57478.79\n",
      "Health & Fitness : 78094.97\n",
      "House & Home : 27113.31\n",
      "Libraries & Demo : 10925.81\n",
      "Lifestyle : 33807.31\n",
      "Lifestyle;Pretend Play : 140995.0\n",
      "Card : 166334.98\n",
      "Arcade : 713174.83\n",
      "Puzzle : 215662.56\n",
      "Racing : 597997.16\n",
      "Sports : 214124.96\n",
      "Casual : 837706.01\n",
      "Simulation : 142850.22\n",
      "Adventure : 285217.73\n",
      "Trivia : 193939.57\n",
      "Action : 544150.71\n",
      "Word : 228272.04\n",
      "Role Playing : 249256.83\n",
      "Strategy : 1251841.81\n",
      "Board : 121552.94\n",
      "Music : 216456.44\n",
      "Action;Action & Adventure : 128986.11\n",
      "Casual;Brain Games : 10477.0\n",
      "Educational;Creativity : 14829.0\n",
      "Puzzle;Brain Games : 157446.0\n",
      "Educational;Education : 12010.23\n",
      "Casual;Pretend Play : 105424.81\n",
      "Educational;Brain Games : 20885.33\n",
      "Art & Design;Pretend Play : 974.0\n",
      "Educational;Pretend Play : 214720.12\n",
      "Entertainment;Education : 7320.0\n",
      "Casual;Education : 13817.5\n",
      "Casual;Creativity : 88508.83\n",
      "Casual;Action & Adventure : 942726.42\n",
      "Music;Music & Video : 25474.0\n",
      "Arcade;Pretend Play : 23671.0\n",
      "Adventure;Action & Adventure : 1513269.0\n",
      "Role Playing;Action & Adventure : 322308.33\n",
      "Simulation;Pretend Play : 37664.5\n",
      "Puzzle;Creativity : 38619.5\n",
      "Simulation;Action & Adventure : 175951.86\n",
      "Racing;Action & Adventure : 203194.87\n",
      "Sports;Action & Adventure : 730014.0\n",
      "Educational;Action & Adventure : 225802.33\n",
      "Arcade;Action & Adventure : 100802.55\n",
      "Entertainment;Action & Adventure : 45750.0\n",
      "Art & Design;Action & Adventure : 65.0\n",
      "Puzzle;Action & Adventure : 533895.33\n",
      "Education;Action & Adventure : 5176.33\n",
      "Strategy;Action & Adventure : 19170.0\n",
      "Music & Audio;Music & Video : 1369.0\n",
      "Health & Fitness;Education : 9856.0\n",
      "Board;Action & Adventure : 37283.0\n",
      "Board;Brain Games : 2249.14\n",
      "Casual;Music & Video : 38021.0\n",
      "Education;Music & Video : 14945.33\n",
      "Role Playing;Pretend Play : 55798.0\n",
      "Entertainment;Pretend Play : 53655.0\n",
      "Medical : 3730.15\n",
      "Social : 965830.99\n",
      "Shopping : 223887.35\n",
      "Photography : 404081.38\n",
      "Travel & Local : 130108.67\n",
      "Travel & Local;Action & Adventure : 890.0\n",
      "Tools : 306502.4\n",
      "Tools;Education : 342336.0\n",
      "Personalization : 181122.32\n",
      "Productivity : 160634.54\n",
      "Parenting : 20562.59\n",
      "Parenting;Music & Video : 4371.33\n",
      "Parenting;Education : 2195.57\n",
      "Parenting;Brain Games : 3614.0\n",
      "Weather : 173679.53\n",
      "Video Players & Editors : 428992.61\n",
      "Video Players & Editors;Music & Video : 79490.5\n",
      "Video Players & Editors;Creativity : 159622.0\n",
      "News & Magazines : 93088.03\n",
      "Maps & Navigation : 143611.28\n",
      "Health & Fitness;Action & Adventure : 31061.0\n",
      "Educational : 7073.64\n",
      "Casino : 137943.81\n",
      "Trivia;Education : 8.0\n",
      "Lifestyle;Education : 3146.0\n",
      "Card;Action & Adventure : 920571.0\n",
      "Books & Reference;Education : 42.0\n",
      "Simulation;Education : 16.0\n",
      "Puzzle;Education : 834.0\n",
      "Adventure;Education : 288606.0\n",
      "Role Playing;Brain Games : 151374.0\n",
      "Strategy;Education : 2062.0\n",
      "Racing;Pretend Play : 2200.0\n",
      "Communication;Creativity : 3478.0\n",
      "February 11, 2018 : 3000000.0\n",
      "Strategy;Creativity : 129542.0\n",
      "None\n"
     ]
    }
   ],
   "source": [
    "#Function call\n",
    "print(rating_count(android_free, 9, 3)) #(Genres,Reviews)"
   ]
  },
  {
   "cell_type": "code",
   "execution_count": 169,
   "metadata": {},
   "outputs": [
    {
     "name": "stdout",
     "output_type": "stream",
     "text": [
      "\n",
      "\n",
      "Social Networking : 71548.35\n",
      "Photo & Video : 28441.54\n",
      "Games : 22910.53\n",
      "Music : 57326.53\n",
      "Reference : 79350.47\n",
      "Health & Fitness : 23298.02\n",
      "Weather : 52279.89\n",
      "Utilities : 19156.49\n",
      "Travel : 28243.8\n",
      "Shopping : 27230.73\n",
      "News : 21248.02\n",
      "Navigation : 86090.33\n",
      "Lifestyle : 16815.48\n",
      "Entertainment : 14195.36\n",
      "Food & Drink : 33333.92\n",
      "Sports : 23008.9\n",
      "Book : 46384.92\n",
      "Finance : 32367.03\n",
      "Education : 7003.98\n",
      "Productivity : 21028.41\n",
      "Business : 7491.12\n",
      "Catalogs : 4004.0\n",
      "Medical : 612.0\n",
      "None\n"
     ]
    }
   ],
   "source": [
    "print('\\n')\n",
    "print(rating_count(apple_free, 11, 5 )) #(prime_genre, rating_total_count)"
   ]
  },
  {
   "attachments": {},
   "cell_type": "markdown",
   "metadata": {},
   "source": [
    "On average, navigation apps have the highest number of user reviews, but this figure is heavily influenced by Waze and Google Maps, which have close to half a million user reviews together:"
   ]
  },
  {
   "cell_type": "code",
   "execution_count": 170,
   "metadata": {},
   "outputs": [
    {
     "name": "stdout",
     "output_type": "stream",
     "text": [
      "Waze - GPS Navigation, Maps & Real-time Traffic : 345046\n",
      "Google Maps - Navigation & Transit : 154911\n",
      "Geocaching® : 12811\n",
      "CoPilot GPS – Car Navigation & Offline Maps : 3582\n",
      "ImmobilienScout24: Real Estate Search in Germany : 187\n",
      "Railway Route Search : 5\n"
     ]
    }
   ],
   "source": [
    "for app in apple_free:\n",
    "    if app[-5] == 'Navigation':\n",
    "        print(app[1], ':', app[5]) # print name and number of ratings"
   ]
  },
  {
   "attachments": {},
   "cell_type": "markdown",
   "metadata": {},
   "source": [
    "Here are the top 5 iOS app categories with the highest popularity scores:\n",
    "\n",
    "1. Navigation\n",
    "2. Social Networking\n",
    "3. Reference\n",
    "4. Music\n",
    "5. Weather"
   ]
  }
 ],
 "metadata": {
  "kernelspec": {
   "display_name": "Python 3",
   "language": "python",
   "name": "python3"
  },
  "language_info": {
   "codemirror_mode": {
    "name": "ipython",
    "version": 3
   },
   "file_extension": ".py",
   "mimetype": "text/x-python",
   "name": "python",
   "nbconvert_exporter": "python",
   "pygments_lexer": "ipython3",
   "version": "3.11.1"
  },
  "orig_nbformat": 4
 },
 "nbformat": 4,
 "nbformat_minor": 2
}
